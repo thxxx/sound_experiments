{
 "cells": [
  {
   "cell_type": "code",
   "execution_count": 1,
   "id": "536d5f5d-a628-4415-9976-3354c4e6146b",
   "metadata": {},
   "outputs": [],
   "source": [
    "import os\n",
    "from IPython.display import Audio, display\n",
    "import pandas as pd"
   ]
  },
  {
   "cell_type": "code",
   "execution_count": 2,
   "id": "a69d9083-2488-4eaf-ba9e-b0b346672a3e",
   "metadata": {},
   "outputs": [
    {
     "ename": "SyntaxError",
     "evalue": "closing parenthesis ')' does not match opening parenthesis '[' (3445168831.py, line 13)",
     "output_type": "error",
     "traceback": [
      "\u001b[0;36m  Cell \u001b[0;32mIn[2], line 13\u001b[0;36m\u001b[0m\n\u001b[0;31m    print(df.iloc[i][\"audio_path\")\u001b[0m\n\u001b[0m                                 ^\u001b[0m\n\u001b[0;31mSyntaxError\u001b[0m\u001b[0;31m:\u001b[0m closing parenthesis ')' does not match opening parenthesis '['\n"
     ]
    }
   ],
   "source": [
    "def play_epoch_audios(folder_name, epoch_number, csv_name):\n",
    "    # 폴더 내 모든 파일 목록을 가져옵니다\n",
    "    files = os.listdir(folder_name)\n",
    "    df = pd.read_csv(csv_name)\n",
    "    \n",
    "    # 에포크 번호에 해당하는 오디오 파일 찾기\n",
    "    epoch_files = [f for f in files if f.startswith(f'epoch_{epoch_number}_') and f.endswith('.wav')]\n",
    "    i = 0\n",
    "    # 찾은 오디오 파일들 재생\n",
    "    for file in epoch_files:\n",
    "        file_path = os.path.join(folder_name, file)\n",
    "        print(\"File path: \", file_path)\n",
    "        print(df.iloc[i][\"audio_path\"])\n",
    "        print(df.iloc[i][\"duration\"])\n",
    "        display(Audio(file_path))\n",
    "        i += 1\n"
   ]
  },
  {
   "cell_type": "code",
   "execution_count": null,
   "id": "2fc86038-596d-422d-9b75-049be2641862",
   "metadata": {},
   "outputs": [],
   "source": [
    "play_epoch_audios('generated_audios_finetune/epoch', 65, \"csv_files/eval_dataset.csv\")"
   ]
  },
  {
   "cell_type": "code",
   "execution_count": null,
   "id": "bfc40aef-7b06-449d-ad9c-8c835ccad953",
   "metadata": {},
   "outputs": [],
   "source": []
  }
 ],
 "metadata": {
  "kernelspec": {
   "display_name": "Python 3 (ipykernel)",
   "language": "python",
   "name": "python3"
  },
  "language_info": {
   "codemirror_mode": {
    "name": "ipython",
    "version": 3
   },
   "file_extension": ".py",
   "mimetype": "text/x-python",
   "name": "python",
   "nbconvert_exporter": "python",
   "pygments_lexer": "ipython3",
   "version": "3.10.12"
  }
 },
 "nbformat": 4,
 "nbformat_minor": 5
}
