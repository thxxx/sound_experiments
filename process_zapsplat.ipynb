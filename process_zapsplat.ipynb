{
 "cells": [
  {
   "cell_type": "code",
   "execution_count": 1,
   "id": "8db73e43-2963-41e5-85f5-8aaf6cbe2ce5",
   "metadata": {},
   "outputs": [],
   "source": []
  },
  {
   "cell_type": "code",
   "execution_count": 2,
   "id": "5427617b-ebe5-47d6-a7c1-463b561c0995",
   "metadata": {},
   "outputs": [],
   "source": [
    "import os\n",
    "import soundfile as sf\n",
    "import pandas as pd\n",
    "\n",
    "def append_to_audio_info_csv(root_folder, original_csv, new_csv_filename):\n",
    "    # 기존 CSV 파일에서 데이터를 불러옵니다\n",
    "    if os.path.exists(original_csv):\n",
    "        existing_df = pd.read_csv(original_csv)\n",
    "    else:\n",
    "        existing_df = pd.DataFrame(columns=['audio_path', 'duration'])\n",
    "\n",
    "    # 새로운 오디오 정보를 수집합니다\n",
    "    new_audio_info = []\n",
    "    for subdir, dirs, files in os.walk(root_folder):\n",
    "        for file in files:\n",
    "            if file.lower().endswith('.wav'):\n",
    "                file_path = os.path.join(subdir, file)\n",
    "                try:\n",
    "                    info = sf.info(file_path)\n",
    "                    new_audio_info.append({'audio_path': file_path, 'duration': info.duration})\n",
    "                except RuntimeError as e:\n",
    "                    print(f\"Error processing file {file_path}: {e}\")\n",
    "\n",
    "    new_audio_df = pd.DataFrame(new_audio_info)\n",
    "\n",
    "    # 기존 데이터프레임과 새 데이터프레임을 병합합니다\n",
    "    combined_df = pd.concat([existing_df, new_audio_df], ignore_index=True)\n",
    "\n",
    "    # 새로운 CSV 파일로 저장합니다\n",
    "    combined_df.to_csv(new_csv_filename, index=False)\n",
    "\n",
    "# 함수 호출 예시\n",
    "append_to_audio_info_csv('/workspace/data/zapsplat-audios/', 'csv_files/audio_info.csv', 'csv_files/audio_info_with_zapsplat.csv')\n"
   ]
  },
  {
   "cell_type": "code",
   "execution_count": null,
   "id": "c51c2203-18fb-46fa-9993-5645fe68766c",
   "metadata": {},
   "outputs": [],
   "source": []
  }
 ],
 "metadata": {
  "kernelspec": {
   "display_name": "Python 3 (ipykernel)",
   "language": "python",
   "name": "python3"
  },
  "language_info": {
   "codemirror_mode": {
    "name": "ipython",
    "version": 3
   },
   "file_extension": ".py",
   "mimetype": "text/x-python",
   "name": "python",
   "nbconvert_exporter": "python",
   "pygments_lexer": "ipython3",
   "version": "3.10.12"
  }
 },
 "nbformat": 4,
 "nbformat_minor": 5
}
